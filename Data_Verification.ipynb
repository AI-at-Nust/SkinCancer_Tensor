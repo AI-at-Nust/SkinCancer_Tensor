{
  "nbformat": 4,
  "nbformat_minor": 0,
  "metadata": {
    "colab": {
      "name": "Data Verification.ipynb",
      "provenance": [],
      "collapsed_sections": []
    },
    "kernelspec": {
      "name": "python3",
      "display_name": "Python 3"
    },
    "accelerator": "GPU"
  },
  "cells": [
    {
      "cell_type": "markdown",
      "metadata": {
        "id": "6EAOphsErF1B"
      },
      "source": [
        "This section verifies that the csv file is formed by converting the image into its vector form"
      ]
    },
    {
      "cell_type": "code",
      "metadata": {
        "id": "TkQmfaN_fdBv"
      },
      "source": [
        "#Importing Libraries\n",
        "import numpy as np # importing numpy to convert the image into the vector\n",
        "import PIL # This library is used for image related functions\n",
        "import pandas as pd # Loading data as chunks and data manipulating"
      ],
      "execution_count": 40,
      "outputs": []
    },
    {
      "cell_type": "code",
      "metadata": {
        "id": "wbto93LNjYUu",
        "outputId": "10c8bb28-a26e-4524-e7ba-9a2a3b93b68a",
        "colab": {
          "base_uri": "https://localhost:8080/",
          "height": 52
        }
      },
      "source": [
        "# Opening the image and resizing it to 28 by 28 pixels\n",
        "image = PIL.Image.open('/content/competitions/competition_name/HAM10000_images_part_1/ISIC_0024306.jpg') \n",
        "img = image.resize((28, 28), PIL.Image.ANTIALIAS)\n",
        "\n",
        "# Converting the image to a matrix\n",
        "resized_data = np.asarray(img)\n",
        "# Displaying the shape of the image\n",
        "print(resized_data.shape)\n",
        "# Flattening the matrix into a vector\n",
        "print(resized_data.flatten())"
      ],
      "execution_count": 41,
      "outputs": [
        {
          "output_type": "stream",
          "text": [
            "(28, 28, 3)\n",
            "[229 127 131 ... 216 145 133]\n"
          ],
          "name": "stdout"
        }
      ]
    },
    {
      "cell_type": "code",
      "metadata": {
        "id": "79UPRTsojoFn",
        "outputId": "b82bc58a-6d2b-4aaf-bf6e-fd687854638b",
        "colab": {
          "base_uri": "https://localhost:8080/",
          "height": 87
        }
      },
      "source": [
        "# Reading CSV file and loading as a data chunk in rgb_csv\n",
        "rgb_csv = pd.read_csv(\"/content/competitions/competition_name/hmnist_28_28_RGB.csv\")\n",
        "\n",
        "''' This step involve Data Manipulation. We are searching for the row containing\n",
        "    the image, the vector of which was shown in the above cell'''\n",
        "desired_row = rgb_csv[(rgb_csv['pixel0000'] == 229) & (rgb_csv['pixel2351'] == 133)\n",
        "                & (rgb_csv['pixel0002'] == 131)]\n",
        "print(desired_row)\n",
        "\n"
      ],
      "execution_count": 52,
      "outputs": [
        {
          "output_type": "stream",
          "text": [
            "      pixel0000  pixel0001  pixel0002  ...  pixel2350  pixel2351  label\n",
            "4349        229        127        131  ...        145        133      4\n",
            "\n",
            "[1 rows x 2353 columns]\n"
          ],
          "name": "stdout"
        }
      ]
    },
    {
      "cell_type": "code",
      "metadata": {
        "id": "k8ARIug0neBd",
        "outputId": "302e3e37-86ed-4d87-cdb7-9793bd2121a4",
        "colab": {
          "base_uri": "https://localhost:8080/",
          "height": 52
        }
      },
      "source": [
        "# Confirming the label and row number from metadata\n",
        "meta_data = pd.read_csv('/content/competitions/competition_name/HAM10000_metadata.csv')\n",
        "print(meta_data[meta_data['image_id'] == 'ISIC_0024306'])"
      ],
      "execution_count": 53,
      "outputs": [
        {
          "output_type": "stream",
          "text": [
            "        lesion_id      image_id  dx    dx_type   age   sex localization\n",
            "4349  HAM_0000550  ISIC_0024306  nv  follow_up  45.0  male        trunk\n"
          ],
          "name": "stdout"
        }
      ]
    },
    {
      "cell_type": "code",
      "metadata": {
        "id": "pxbQvtC2vjp5"
      },
      "source": [
        ""
      ],
      "execution_count": null,
      "outputs": []
    }
  ]
}